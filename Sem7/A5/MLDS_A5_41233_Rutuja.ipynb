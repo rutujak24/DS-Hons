{
 "cells": [
  {
   "cell_type": "code",
   "execution_count": 1,
   "metadata": {
    "execution": {
     "iopub.execute_input": "2021-09-19T07:14:02.821943Z",
     "iopub.status.busy": "2021-09-19T07:14:02.82167Z",
     "iopub.status.idle": "2021-09-19T07:14:02.826482Z",
     "shell.execute_reply": "2021-09-19T07:14:02.82564Z",
     "shell.execute_reply.started": "2021-09-19T07:14:02.821917Z"
    }
   },
   "outputs": [],
   "source": [
    "import numpy as np\n",
    "import pandas as pd \n",
    "import matplotlib.pyplot as plt\n",
    "import seaborn as sns"
   ]
  },
  {
   "cell_type": "code",
   "execution_count": 2,
   "metadata": {
    "execution": {
     "iopub.execute_input": "2021-09-19T07:14:02.843983Z",
     "iopub.status.busy": "2021-09-19T07:14:02.843747Z",
     "iopub.status.idle": "2021-09-19T07:14:02.934772Z",
     "shell.execute_reply": "2021-09-19T07:14:02.933996Z",
     "shell.execute_reply.started": "2021-09-19T07:14:02.843957Z"
    }
   },
   "outputs": [],
   "source": [
    "train = pd.read_csv(r\"train.csv\")\n",
    "test = pd.read_csv(r\"test.csv\")"
   ]
  },
  {
   "cell_type": "code",
   "execution_count": 3,
   "metadata": {
    "execution": {
     "iopub.execute_input": "2021-09-19T07:14:02.936723Z",
     "iopub.status.busy": "2021-09-19T07:14:02.93651Z",
     "iopub.status.idle": "2021-09-19T07:14:02.951389Z",
     "shell.execute_reply": "2021-09-19T07:14:02.950362Z",
     "shell.execute_reply.started": "2021-09-19T07:14:02.936699Z"
    }
   },
   "outputs": [
    {
     "data": {
      "text/html": [
       "<div>\n",
       "<style scoped>\n",
       "    .dataframe tbody tr th:only-of-type {\n",
       "        vertical-align: middle;\n",
       "    }\n",
       "\n",
       "    .dataframe tbody tr th {\n",
       "        vertical-align: top;\n",
       "    }\n",
       "\n",
       "    .dataframe thead th {\n",
       "        text-align: right;\n",
       "    }\n",
       "</style>\n",
       "<table border=\"1\" class=\"dataframe\">\n",
       "  <thead>\n",
       "    <tr style=\"text-align: right;\">\n",
       "      <th></th>\n",
       "      <th>id</th>\n",
       "      <th>label</th>\n",
       "      <th>tweet</th>\n",
       "    </tr>\n",
       "  </thead>\n",
       "  <tbody>\n",
       "    <tr>\n",
       "      <th>0</th>\n",
       "      <td>1</td>\n",
       "      <td>0</td>\n",
       "      <td>@user when a father is dysfunctional and is s...</td>\n",
       "    </tr>\n",
       "    <tr>\n",
       "      <th>1</th>\n",
       "      <td>2</td>\n",
       "      <td>0</td>\n",
       "      <td>@user @user thanks for #lyft credit i can't us...</td>\n",
       "    </tr>\n",
       "    <tr>\n",
       "      <th>2</th>\n",
       "      <td>3</td>\n",
       "      <td>0</td>\n",
       "      <td>bihday your majesty</td>\n",
       "    </tr>\n",
       "    <tr>\n",
       "      <th>3</th>\n",
       "      <td>4</td>\n",
       "      <td>0</td>\n",
       "      <td>#model   i love u take with u all the time in ...</td>\n",
       "    </tr>\n",
       "    <tr>\n",
       "      <th>4</th>\n",
       "      <td>5</td>\n",
       "      <td>0</td>\n",
       "      <td>factsguide: society now    #motivation</td>\n",
       "    </tr>\n",
       "    <tr>\n",
       "      <th>...</th>\n",
       "      <td>...</td>\n",
       "      <td>...</td>\n",
       "      <td>...</td>\n",
       "    </tr>\n",
       "    <tr>\n",
       "      <th>31957</th>\n",
       "      <td>31958</td>\n",
       "      <td>0</td>\n",
       "      <td>ate @user isz that youuu?ðððððð...</td>\n",
       "    </tr>\n",
       "    <tr>\n",
       "      <th>31958</th>\n",
       "      <td>31959</td>\n",
       "      <td>0</td>\n",
       "      <td>to see nina turner on the airwaves trying to...</td>\n",
       "    </tr>\n",
       "    <tr>\n",
       "      <th>31959</th>\n",
       "      <td>31960</td>\n",
       "      <td>0</td>\n",
       "      <td>listening to sad songs on a monday morning otw...</td>\n",
       "    </tr>\n",
       "    <tr>\n",
       "      <th>31960</th>\n",
       "      <td>31961</td>\n",
       "      <td>1</td>\n",
       "      <td>@user #sikh #temple vandalised in in #calgary,...</td>\n",
       "    </tr>\n",
       "    <tr>\n",
       "      <th>31961</th>\n",
       "      <td>31962</td>\n",
       "      <td>0</td>\n",
       "      <td>thank you @user for you follow</td>\n",
       "    </tr>\n",
       "  </tbody>\n",
       "</table>\n",
       "<p>31962 rows × 3 columns</p>\n",
       "</div>"
      ],
      "text/plain": [
       "          id  label                                              tweet\n",
       "0          1      0   @user when a father is dysfunctional and is s...\n",
       "1          2      0  @user @user thanks for #lyft credit i can't us...\n",
       "2          3      0                                bihday your majesty\n",
       "3          4      0  #model   i love u take with u all the time in ...\n",
       "4          5      0             factsguide: society now    #motivation\n",
       "...      ...    ...                                                ...\n",
       "31957  31958      0  ate @user isz that youuu?ðððððð...\n",
       "31958  31959      0    to see nina turner on the airwaves trying to...\n",
       "31959  31960      0  listening to sad songs on a monday morning otw...\n",
       "31960  31961      1  @user #sikh #temple vandalised in in #calgary,...\n",
       "31961  31962      0                   thank you @user for you follow  \n",
       "\n",
       "[31962 rows x 3 columns]"
      ]
     },
     "execution_count": 3,
     "metadata": {},
     "output_type": "execute_result"
    }
   ],
   "source": [
    "train"
   ]
  },
  {
   "cell_type": "code",
   "execution_count": 4,
   "metadata": {
    "execution": {
     "iopub.execute_input": "2021-09-19T07:14:02.953151Z",
     "iopub.status.busy": "2021-09-19T07:14:02.952764Z",
     "iopub.status.idle": "2021-09-19T07:14:02.967958Z",
     "shell.execute_reply": "2021-09-19T07:14:02.966924Z",
     "shell.execute_reply.started": "2021-09-19T07:14:02.95311Z"
    }
   },
   "outputs": [
    {
     "data": {
      "text/html": [
       "<div>\n",
       "<style scoped>\n",
       "    .dataframe tbody tr th:only-of-type {\n",
       "        vertical-align: middle;\n",
       "    }\n",
       "\n",
       "    .dataframe tbody tr th {\n",
       "        vertical-align: top;\n",
       "    }\n",
       "\n",
       "    .dataframe thead th {\n",
       "        text-align: right;\n",
       "    }\n",
       "</style>\n",
       "<table border=\"1\" class=\"dataframe\">\n",
       "  <thead>\n",
       "    <tr style=\"text-align: right;\">\n",
       "      <th></th>\n",
       "      <th>id</th>\n",
       "      <th>tweet</th>\n",
       "    </tr>\n",
       "  </thead>\n",
       "  <tbody>\n",
       "    <tr>\n",
       "      <th>0</th>\n",
       "      <td>31963</td>\n",
       "      <td>#studiolife #aislife #requires #passion #dedic...</td>\n",
       "    </tr>\n",
       "    <tr>\n",
       "      <th>1</th>\n",
       "      <td>31964</td>\n",
       "      <td>@user #white #supremacists want everyone to s...</td>\n",
       "    </tr>\n",
       "    <tr>\n",
       "      <th>2</th>\n",
       "      <td>31965</td>\n",
       "      <td>safe ways to heal your #acne!!    #altwaystohe...</td>\n",
       "    </tr>\n",
       "    <tr>\n",
       "      <th>3</th>\n",
       "      <td>31966</td>\n",
       "      <td>is the hp and the cursed child book up for res...</td>\n",
       "    </tr>\n",
       "    <tr>\n",
       "      <th>4</th>\n",
       "      <td>31967</td>\n",
       "      <td>3rd #bihday to my amazing, hilarious #nephew...</td>\n",
       "    </tr>\n",
       "    <tr>\n",
       "      <th>...</th>\n",
       "      <td>...</td>\n",
       "      <td>...</td>\n",
       "    </tr>\n",
       "    <tr>\n",
       "      <th>17192</th>\n",
       "      <td>49155</td>\n",
       "      <td>thought factory: left-right polarisation! #tru...</td>\n",
       "    </tr>\n",
       "    <tr>\n",
       "      <th>17193</th>\n",
       "      <td>49156</td>\n",
       "      <td>feeling like a mermaid ð #hairflip #neverre...</td>\n",
       "    </tr>\n",
       "    <tr>\n",
       "      <th>17194</th>\n",
       "      <td>49157</td>\n",
       "      <td>#hillary #campaigned today in #ohio((omg)) &amp;am...</td>\n",
       "    </tr>\n",
       "    <tr>\n",
       "      <th>17195</th>\n",
       "      <td>49158</td>\n",
       "      <td>happy, at work conference: right mindset leads...</td>\n",
       "    </tr>\n",
       "    <tr>\n",
       "      <th>17196</th>\n",
       "      <td>49159</td>\n",
       "      <td>my   song \"so glad\" free download!  #shoegaze ...</td>\n",
       "    </tr>\n",
       "  </tbody>\n",
       "</table>\n",
       "<p>17197 rows × 2 columns</p>\n",
       "</div>"
      ],
      "text/plain": [
       "          id                                              tweet\n",
       "0      31963  #studiolife #aislife #requires #passion #dedic...\n",
       "1      31964   @user #white #supremacists want everyone to s...\n",
       "2      31965  safe ways to heal your #acne!!    #altwaystohe...\n",
       "3      31966  is the hp and the cursed child book up for res...\n",
       "4      31967    3rd #bihday to my amazing, hilarious #nephew...\n",
       "...      ...                                                ...\n",
       "17192  49155  thought factory: left-right polarisation! #tru...\n",
       "17193  49156  feeling like a mermaid ð #hairflip #neverre...\n",
       "17194  49157  #hillary #campaigned today in #ohio((omg)) &am...\n",
       "17195  49158  happy, at work conference: right mindset leads...\n",
       "17196  49159  my   song \"so glad\" free download!  #shoegaze ...\n",
       "\n",
       "[17197 rows x 2 columns]"
      ]
     },
     "execution_count": 4,
     "metadata": {},
     "output_type": "execute_result"
    }
   ],
   "source": [
    "test"
   ]
  },
  {
   "cell_type": "code",
   "execution_count": 5,
   "metadata": {
    "execution": {
     "iopub.execute_input": "2021-09-19T07:14:02.969424Z",
     "iopub.status.busy": "2021-09-19T07:14:02.969096Z",
     "iopub.status.idle": "2021-09-19T07:14:03.367523Z",
     "shell.execute_reply": "2021-09-19T07:14:03.366542Z",
     "shell.execute_reply.started": "2021-09-19T07:14:02.969391Z"
    }
   },
   "outputs": [
    {
     "data": {
      "text/plain": [
       "<seaborn.axisgrid.FacetGrid at 0x1f961cbd700>"
      ]
     },
     "execution_count": 5,
     "metadata": {},
     "output_type": "execute_result"
    },
    {
     "data": {
      "image/png": "[encoded data removed]",
      "text/plain": [
       "<Figure size 360x360 with 1 Axes>"
      ]
     },
     "metadata": {
      "needs_background": "light"
     },
     "output_type": "display_data"
    }
   ],
   "source": [
    "sns.displot(train['label'])"
   ]
  },
  {
   "cell_type": "code",
   "execution_count": 6,
   "metadata": {
    "execution": {
     "iopub.execute_input": "2021-09-19T07:14:03.36905Z",
     "iopub.status.busy": "2021-09-19T07:14:03.368824Z",
     "iopub.status.idle": "2021-09-19T07:14:03.376588Z",
     "shell.execute_reply": "2021-09-19T07:14:03.37576Z",
     "shell.execute_reply.started": "2021-09-19T07:14:03.369023Z"
    }
   },
   "outputs": [
    {
     "data": {
      "text/plain": [
       "0    29720\n",
       "1     2242\n",
       "Name: label, dtype: int64"
      ]
     },
     "execution_count": 6,
     "metadata": {},
     "output_type": "execute_result"
    }
   ],
   "source": [
    "label_cnt = train['label'].value_counts()\n",
    "label_cnt"
   ]
  },
  {
   "cell_type": "code",
   "execution_count": 7,
   "metadata": {
    "execution": {
     "iopub.execute_input": "2021-09-19T07:14:03.379262Z",
     "iopub.status.busy": "2021-09-19T07:14:03.379005Z",
     "iopub.status.idle": "2021-09-19T07:14:03.390959Z",
     "shell.execute_reply": "2021-09-19T07:14:03.389941Z",
     "shell.execute_reply.started": "2021-09-19T07:14:03.379235Z"
    }
   },
   "outputs": [
    {
     "data": {
      "text/plain": [
       "0    0.929854\n",
       "1    0.070146\n",
       "Name: label, dtype: float64"
      ]
     },
     "execution_count": 7,
     "metadata": {},
     "output_type": "execute_result"
    }
   ],
   "source": [
    "label_pct = train['label'].value_counts() / len(train)\n",
    "label_pct"
   ]
  },
  {
   "cell_type": "code",
   "execution_count": 8,
   "metadata": {
    "execution": {
     "iopub.execute_input": "2021-09-19T07:14:03.392875Z",
     "iopub.status.busy": "2021-09-19T07:14:03.392491Z",
     "iopub.status.idle": "2021-09-19T07:14:03.410557Z",
     "shell.execute_reply": "2021-09-19T07:14:03.409599Z",
     "shell.execute_reply.started": "2021-09-19T07:14:03.392836Z"
    }
   },
   "outputs": [
    {
     "data": {
      "text/html": [
       "<div>\n",
       "<style scoped>\n",
       "    .dataframe tbody tr th:only-of-type {\n",
       "        vertical-align: middle;\n",
       "    }\n",
       "\n",
       "    .dataframe tbody tr th {\n",
       "        vertical-align: top;\n",
       "    }\n",
       "\n",
       "    .dataframe thead th {\n",
       "        text-align: right;\n",
       "    }\n",
       "</style>\n",
       "<table border=\"1\" class=\"dataframe\">\n",
       "  <thead>\n",
       "    <tr style=\"text-align: right;\">\n",
       "      <th></th>\n",
       "      <th>id</th>\n",
       "      <th>tweet</th>\n",
       "    </tr>\n",
       "  </thead>\n",
       "  <tbody>\n",
       "    <tr>\n",
       "      <th>0</th>\n",
       "      <td>1</td>\n",
       "      <td>@user when a father is dysfunctional and is s...</td>\n",
       "    </tr>\n",
       "    <tr>\n",
       "      <th>1</th>\n",
       "      <td>2</td>\n",
       "      <td>@user @user thanks for #lyft credit i can't us...</td>\n",
       "    </tr>\n",
       "    <tr>\n",
       "      <th>2</th>\n",
       "      <td>3</td>\n",
       "      <td>bihday your majesty</td>\n",
       "    </tr>\n",
       "    <tr>\n",
       "      <th>3</th>\n",
       "      <td>4</td>\n",
       "      <td>#model   i love u take with u all the time in ...</td>\n",
       "    </tr>\n",
       "    <tr>\n",
       "      <th>4</th>\n",
       "      <td>5</td>\n",
       "      <td>factsguide: society now    #motivation</td>\n",
       "    </tr>\n",
       "    <tr>\n",
       "      <th>...</th>\n",
       "      <td>...</td>\n",
       "      <td>...</td>\n",
       "    </tr>\n",
       "    <tr>\n",
       "      <th>31957</th>\n",
       "      <td>31958</td>\n",
       "      <td>ate @user isz that youuu?ðððððð...</td>\n",
       "    </tr>\n",
       "    <tr>\n",
       "      <th>31958</th>\n",
       "      <td>31959</td>\n",
       "      <td>to see nina turner on the airwaves trying to...</td>\n",
       "    </tr>\n",
       "    <tr>\n",
       "      <th>31959</th>\n",
       "      <td>31960</td>\n",
       "      <td>listening to sad songs on a monday morning otw...</td>\n",
       "    </tr>\n",
       "    <tr>\n",
       "      <th>31960</th>\n",
       "      <td>31961</td>\n",
       "      <td>@user #sikh #temple vandalised in in #calgary,...</td>\n",
       "    </tr>\n",
       "    <tr>\n",
       "      <th>31961</th>\n",
       "      <td>31962</td>\n",
       "      <td>thank you @user for you follow</td>\n",
       "    </tr>\n",
       "  </tbody>\n",
       "</table>\n",
       "<p>31962 rows × 2 columns</p>\n",
       "</div>"
      ],
      "text/plain": [
       "          id                                              tweet\n",
       "0          1   @user when a father is dysfunctional and is s...\n",
       "1          2  @user @user thanks for #lyft credit i can't us...\n",
       "2          3                                bihday your majesty\n",
       "3          4  #model   i love u take with u all the time in ...\n",
       "4          5             factsguide: society now    #motivation\n",
       "...      ...                                                ...\n",
       "31957  31958  ate @user isz that youuu?ðððððð...\n",
       "31958  31959    to see nina turner on the airwaves trying to...\n",
       "31959  31960  listening to sad songs on a monday morning otw...\n",
       "31960  31961  @user #sikh #temple vandalised in in #calgary,...\n",
       "31961  31962                   thank you @user for you follow  \n",
       "\n",
       "[31962 rows x 2 columns]"
      ]
     },
     "execution_count": 8,
     "metadata": {},
     "output_type": "execute_result"
    }
   ],
   "source": [
    "label = train['label']\n",
    "\n",
    "train.drop(['label'], axis=1, inplace=True)\n",
    "train"
   ]
  },
  {
   "cell_type": "code",
   "execution_count": 9,
   "metadata": {
    "execution": {
     "iopub.execute_input": "2021-09-19T07:14:03.412591Z",
     "iopub.status.busy": "2021-09-19T07:14:03.411821Z",
     "iopub.status.idle": "2021-09-19T07:14:03.430363Z",
     "shell.execute_reply": "2021-09-19T07:14:03.429832Z",
     "shell.execute_reply.started": "2021-09-19T07:14:03.412547Z"
    }
   },
   "outputs": [
    {
     "data": {
      "text/html": [
       "<div>\n",
       "<style scoped>\n",
       "    .dataframe tbody tr th:only-of-type {\n",
       "        vertical-align: middle;\n",
       "    }\n",
       "\n",
       "    .dataframe tbody tr th {\n",
       "        vertical-align: top;\n",
       "    }\n",
       "\n",
       "    .dataframe thead th {\n",
       "        text-align: right;\n",
       "    }\n",
       "</style>\n",
       "<table border=\"1\" class=\"dataframe\">\n",
       "  <thead>\n",
       "    <tr style=\"text-align: right;\">\n",
       "      <th></th>\n",
       "      <th>id</th>\n",
       "      <th>tweet</th>\n",
       "    </tr>\n",
       "  </thead>\n",
       "  <tbody>\n",
       "    <tr>\n",
       "      <th>0</th>\n",
       "      <td>1</td>\n",
       "      <td>@user when a father is dysfunctional and is s...</td>\n",
       "    </tr>\n",
       "    <tr>\n",
       "      <th>1</th>\n",
       "      <td>2</td>\n",
       "      <td>@user @user thanks for #lyft credit i can't us...</td>\n",
       "    </tr>\n",
       "    <tr>\n",
       "      <th>2</th>\n",
       "      <td>3</td>\n",
       "      <td>bihday your majesty</td>\n",
       "    </tr>\n",
       "    <tr>\n",
       "      <th>3</th>\n",
       "      <td>4</td>\n",
       "      <td>#model   i love u take with u all the time in ...</td>\n",
       "    </tr>\n",
       "    <tr>\n",
       "      <th>4</th>\n",
       "      <td>5</td>\n",
       "      <td>factsguide: society now    #motivation</td>\n",
       "    </tr>\n",
       "    <tr>\n",
       "      <th>...</th>\n",
       "      <td>...</td>\n",
       "      <td>...</td>\n",
       "    </tr>\n",
       "    <tr>\n",
       "      <th>17192</th>\n",
       "      <td>49155</td>\n",
       "      <td>thought factory: left-right polarisation! #tru...</td>\n",
       "    </tr>\n",
       "    <tr>\n",
       "      <th>17193</th>\n",
       "      <td>49156</td>\n",
       "      <td>feeling like a mermaid ð #hairflip #neverre...</td>\n",
       "    </tr>\n",
       "    <tr>\n",
       "      <th>17194</th>\n",
       "      <td>49157</td>\n",
       "      <td>#hillary #campaigned today in #ohio((omg)) &amp;am...</td>\n",
       "    </tr>\n",
       "    <tr>\n",
       "      <th>17195</th>\n",
       "      <td>49158</td>\n",
       "      <td>happy, at work conference: right mindset leads...</td>\n",
       "    </tr>\n",
       "    <tr>\n",
       "      <th>17196</th>\n",
       "      <td>49159</td>\n",
       "      <td>my   song \"so glad\" free download!  #shoegaze ...</td>\n",
       "    </tr>\n",
       "  </tbody>\n",
       "</table>\n",
       "<p>49159 rows × 2 columns</p>\n",
       "</div>"
      ],
      "text/plain": [
       "          id                                              tweet\n",
       "0          1   @user when a father is dysfunctional and is s...\n",
       "1          2  @user @user thanks for #lyft credit i can't us...\n",
       "2          3                                bihday your majesty\n",
       "3          4  #model   i love u take with u all the time in ...\n",
       "4          5             factsguide: society now    #motivation\n",
       "...      ...                                                ...\n",
       "17192  49155  thought factory: left-right polarisation! #tru...\n",
       "17193  49156  feeling like a mermaid ð #hairflip #neverre...\n",
       "17194  49157  #hillary #campaigned today in #ohio((omg)) &am...\n",
       "17195  49158  happy, at work conference: right mindset leads...\n",
       "17196  49159  my   song \"so glad\" free download!  #shoegaze ...\n",
       "\n",
       "[49159 rows x 2 columns]"
      ]
     },
     "execution_count": 9,
     "metadata": {},
     "output_type": "execute_result"
    }
   ],
   "source": [
    "combi = train.append(test)\n",
    "combi"
   ]
  },
  {
   "cell_type": "code",
   "execution_count": 10,
   "metadata": {
    "execution": {
     "iopub.execute_input": "2021-09-19T07:14:03.432152Z",
     "iopub.status.busy": "2021-09-19T07:14:03.431215Z",
     "iopub.status.idle": "2021-09-19T07:14:04.005586Z",
     "shell.execute_reply": "2021-09-19T07:14:04.004597Z",
     "shell.execute_reply.started": "2021-09-19T07:14:03.432108Z"
    }
   },
   "outputs": [
    {
     "name": "stdout",
     "output_type": "stream",
     "text": [
      "681137\n"
     ]
    }
   ],
   "source": [
    "tweets = combi['tweet']\n",
    "\n",
    "count_words = tweets.str.findall(r'(\\w+)').str.len()\n",
    "print(count_words.sum())"
   ]
  },
  {
   "cell_type": "code",
   "execution_count": 11,
   "metadata": {
    "execution": {
     "iopub.execute_input": "2021-09-19T07:14:04.007186Z",
     "iopub.status.busy": "2021-09-19T07:14:04.006962Z",
     "iopub.status.idle": "2021-09-19T07:14:05.01187Z",
     "shell.execute_reply": "2021-09-19T07:14:05.010933Z",
     "shell.execute_reply.started": "2021-09-19T07:14:04.007159Z"
    }
   },
   "outputs": [
    {
     "name": "stdout",
     "output_type": "stream",
     "text": [
      "394674\n"
     ]
    }
   ],
   "source": [
    "import re\n",
    "from nltk.corpus import stopwords\n",
    "\n",
    "tweets = tweets.str.lower()\n",
    "\n",
    "\n",
    "tweets = tweets.apply(lambda x : re.sub(\"[^a-z\\s]\",\"\",x) )\n",
    "\n",
    "\n",
    "tweets = tweets.str.replace(\"#\", \" \")\n",
    "\n",
    "\n",
    "tweets = tweets.apply(lambda x: ' '.join([w for w in x.split() if len(w)>2]))\n",
    "\n",
    "\n",
    "stopwords = set(stopwords.words(\"english\"))\n",
    "tweets = tweets.apply(lambda x : \" \".join(word for word in x.split() if word not in stopwords ))\n",
    "\n",
    "\n",
    "count_words = tweets.str.findall(r'(\\w+)').str.len()\n",
    "print(count_words.sum())"
   ]
  },
  {
   "cell_type": "code",
   "execution_count": 12,
   "metadata": {
    "execution": {
     "iopub.execute_input": "2021-09-19T07:14:05.013805Z",
     "iopub.status.busy": "2021-09-19T07:14:05.013489Z",
     "iopub.status.idle": "2021-09-19T07:14:06.274638Z",
     "shell.execute_reply": "2021-09-19T07:14:06.273823Z",
     "shell.execute_reply.started": "2021-09-19T07:14:05.013752Z"
    }
   },
   "outputs": [
    {
     "name": "stdout",
     "output_type": "stream",
     "text": [
      "user        27008\n",
      "love         4217\n",
      "day          3471\n",
      "happy        2630\n",
      "amp          2433\n",
      "time         1745\n",
      "life         1719\n",
      "today        1555\n",
      "new          1546\n",
      "like         1527\n",
      "positive     1423\n",
      "get          1406\n",
      "thankful     1403\n",
      "people       1331\n",
      "bihday       1327\n",
      "good         1313\n",
      "cant         1239\n",
      "one          1219\n",
      "see          1136\n",
      "fathers      1134\n",
      "dont         1133\n",
      "smile        1077\n",
      "want          986\n",
      "healthy       962\n",
      "take          945\n",
      "dtype: int64\n",
      "328789\n"
     ]
    }
   ],
   "source": [
    "most_freq_words = pd.Series(' '.join(tweets).lower().split()).value_counts()[:25]\n",
    "tweets = tweets.apply(lambda x : \" \".join(word for word in x.split() if word not in most_freq_words ))\n",
    "print(most_freq_words)\n",
    "\n",
    "count_words = tweets.str.findall(r'(\\w+)').str.len()\n",
    "print(count_words.sum())"
   ]
  },
  {
   "cell_type": "code",
   "execution_count": 13,
   "metadata": {
    "execution": {
     "iopub.execute_input": "2021-09-19T07:14:06.276081Z",
     "iopub.status.busy": "2021-09-19T07:14:06.27583Z",
     "iopub.status.idle": "2021-09-19T07:14:06.612942Z",
     "shell.execute_reply": "2021-09-19T07:14:06.612066Z",
     "shell.execute_reply.started": "2021-09-19T07:14:06.276052Z"
    }
   },
   "outputs": [
    {
     "name": "stdout",
     "output_type": "stream",
     "text": [
      "296750\n"
     ]
    }
   ],
   "source": [
    "from collections import Counter\n",
    "from itertools import chain\n",
    "\n",
    "v = tweets.str.split().tolist() \n",
    "\n",
    "c = Counter(chain.from_iterable(v))\n",
    "\n",
    "tweets = [' '.join([j for j in i if c[j] > 1]) for i in v]\n",
    "\n",
    "total_word = 0\n",
    "for x,word in enumerate(tweets):\n",
    "    num_word = len(word.split())\n",
    "   \n",
    "    total_word = total_word + num_word\n",
    "print(total_word)"
   ]
  },
  {
   "cell_type": "code",
   "execution_count": 14,
   "metadata": {
    "execution": {
     "iopub.execute_input": "2021-09-19T07:14:06.614288Z",
     "iopub.status.busy": "2021-09-19T07:14:06.614049Z",
     "iopub.status.idle": "2021-09-19T07:14:06.633217Z",
     "shell.execute_reply": "2021-09-19T07:14:06.63224Z",
     "shell.execute_reply.started": "2021-09-19T07:14:06.614261Z"
    }
   },
   "outputs": [],
   "source": [
    "X = np.array(tweets[: len(train)])\n",
    "y = label"
   ]
  },
  {
   "cell_type": "code",
   "execution_count": 15,
   "metadata": {
    "execution": {
     "iopub.execute_input": "2021-09-19T07:14:06.635178Z",
     "iopub.status.busy": "2021-09-19T07:14:06.63483Z",
     "iopub.status.idle": "2021-09-19T07:14:06.676927Z",
     "shell.execute_reply": "2021-09-19T07:14:06.676117Z",
     "shell.execute_reply.started": "2021-09-19T07:14:06.635138Z"
    }
   },
   "outputs": [
    {
     "data": {
      "text/plain": [
       "((22373,), (22373,), (9589,), (9589,))"
      ]
     },
     "execution_count": 15,
     "metadata": {},
     "output_type": "execute_result"
    }
   ],
   "source": [
    "from sklearn.model_selection import train_test_split\n",
    "\n",
    "X_train,X_val, y_train, y_val = train_test_split(X,y, stratify=y, test_size=0.3, random_state=1)\n",
    "X_train.shape, y_train.shape, X_val.shape,y_val.shape"
   ]
  },
  {
   "cell_type": "code",
   "execution_count": 16,
   "metadata": {
    "execution": {
     "iopub.execute_input": "2021-09-19T07:14:06.678722Z",
     "iopub.status.busy": "2021-09-19T07:14:06.678411Z",
     "iopub.status.idle": "2021-09-19T07:14:07.126474Z",
     "shell.execute_reply": "2021-09-19T07:14:07.125258Z",
     "shell.execute_reply.started": "2021-09-19T07:14:06.678683Z"
    }
   },
   "outputs": [
    {
     "name": "stdout",
     "output_type": "stream",
     "text": [
      "['affirmation', 'amazing', 'beautiful', 'best', 'blog']\n"
     ]
    }
   ],
   "source": [
    "from sklearn.feature_extraction.text import TfidfVectorizer\n",
    "\n",
    "vectorizer_tfidf = TfidfVectorizer(stop_words='english', max_df=0.7, min_df=0.01)\n",
    "train_tfIdf = vectorizer_tfidf.fit_transform(X_train.astype('U'))\n",
    "val_tfIdf = vectorizer_tfidf.transform(X_val.astype('U'))\n",
    "print(vectorizer_tfidf.get_feature_names()[:5])\n"
   ]
  },
  {
   "cell_type": "code",
   "execution_count": 17,
   "metadata": {
    "execution": {
     "iopub.execute_input": "2021-09-19T07:14:07.128174Z",
     "iopub.status.busy": "2021-09-19T07:14:07.127856Z",
     "iopub.status.idle": "2021-09-19T07:14:07.135165Z",
     "shell.execute_reply": "2021-09-19T07:14:07.134238Z",
     "shell.execute_reply.started": "2021-09-19T07:14:07.128124Z"
    }
   },
   "outputs": [
    {
     "data": {
      "text/plain": [
       "((22373, 45), (9589, 45))"
      ]
     },
     "execution_count": 17,
     "metadata": {},
     "output_type": "execute_result"
    }
   ],
   "source": [
    "train_tfIdf.shape,  val_tfIdf.shape"
   ]
  },
  {
   "cell_type": "code",
   "execution_count": 18,
   "metadata": {
    "execution": {
     "iopub.execute_input": "2021-09-19T07:14:07.137595Z",
     "iopub.status.busy": "2021-09-19T07:14:07.1372Z",
     "iopub.status.idle": "2021-09-19T07:14:07.40399Z",
     "shell.execute_reply": "2021-09-19T07:14:07.403166Z",
     "shell.execute_reply.started": "2021-09-19T07:14:07.137556Z"
    }
   },
   "outputs": [
    {
     "name": "stdout",
     "output_type": "stream",
     "text": [
      "0.9304071872346131\n"
     ]
    }
   ],
   "source": [
    "from sklearn.neighbors import KNeighborsClassifier\n",
    "\n",
    "model = KNeighborsClassifier(n_neighbors=5).fit(train_tfIdf, y_train)\n",
    "print(model.score(train_tfIdf, y_train))"
   ]
  },
  {
   "cell_type": "code",
   "execution_count": 19,
   "metadata": {
    "execution": {
     "iopub.execute_input": "2021-09-19T07:14:07.40702Z",
     "iopub.status.busy": "2021-09-19T07:14:07.406763Z",
     "iopub.status.idle": "2021-09-19T07:14:07.414415Z",
     "shell.execute_reply": "2021-09-19T07:14:07.413532Z",
     "shell.execute_reply.started": "2021-09-19T07:14:07.406992Z"
    }
   },
   "outputs": [
    {
     "name": "stdout",
     "output_type": "stream",
     "text": [
      "0.9313797059130253\n"
     ]
    }
   ],
   "source": [
    "y_pred = model.predict(val_tfIdf)\n",
    "print(model.score(val_tfIdf, y_val))"
   ]
  },
  {
   "cell_type": "code",
   "execution_count": 20,
   "metadata": {
    "execution": {
     "iopub.execute_input": "2021-09-19T07:14:07.415757Z",
     "iopub.status.busy": "2021-09-19T07:14:07.415489Z",
     "iopub.status.idle": "2021-09-19T07:14:07.438752Z",
     "shell.execute_reply": "2021-09-19T07:14:07.437863Z",
     "shell.execute_reply.started": "2021-09-19T07:14:07.415709Z"
    }
   },
   "outputs": [
    {
     "name": "stdout",
     "output_type": "stream",
     "text": [
      "[[8881   35]\n",
      " [ 623   50]]\n"
     ]
    }
   ],
   "source": [
    "from sklearn.metrics import confusion_matrix\n",
    "\n",
    "print(confusion_matrix(y_val, y_pred))"
   ]
  },
  {
   "cell_type": "code",
   "execution_count": 23,
   "metadata": {},
   "outputs": [
    {
     "name": "stdout",
     "output_type": "stream",
     "text": [
      "              precision    recall  f1-score   support\n",
      "\n",
      "           0       0.93      1.00      0.96      8916\n",
      "           1       0.59      0.07      0.13       673\n",
      "\n",
      "    accuracy                           0.93      9589\n",
      "   macro avg       0.76      0.54      0.55      9589\n",
      "weighted avg       0.91      0.93      0.91      9589\n",
      "\n"
     ]
    }
   ],
   "source": [
    "from sklearn.metrics import classification_report\n",
    "print(classification_report(y_val, y_pred))"
   ]
  },
  {
   "cell_type": "code",
   "execution_count": null,
   "metadata": {},
   "outputs": [],
   "source": []
  }
 ],
 "metadata": {
  "kernelspec": {
   "display_name": "Python 3",
   "language": "python",
   "name": "python3"
  },
  "language_info": {
   "codemirror_mode": {
    "name": "ipython",
    "version": 3
   },
   "file_extension": ".py",
   "mimetype": "text/x-python",
   "name": "python",
   "nbconvert_exporter": "python",
   "pygments_lexer": "ipython3",
   "version": "3.8.8"
  }
 },
 "nbformat": 4,
 "nbformat_minor": 4
}
