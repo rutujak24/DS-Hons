{
  "nbformat": 4,
  "nbformat_minor": 0,
  "metadata": {
    "kernelspec": {
      "display_name": "Python 3",
      "language": "python",
      "name": "python3"
    },
    "language_info": {
      "codemirror_mode": {
        "name": "ipython",
        "version": 3
      },
      "file_extension": ".py",
      "mimetype": "text/x-python",
      "name": "python",
      "nbconvert_exporter": "python",
      "pygments_lexer": "ipython3",
      "version": "3.8.8"
    },
    "colab": {
      "name": "MLDS_A2_41469_Yogesh.ipynb",
      "provenance": []
    },
    "accelerator": "GPU"
  },
  "cells": [
    {
      "cell_type": "code",
      "metadata": {
        "_cell_guid": "b1076dfc-b9ad-4769-8c92-a6c4dae69d19",
        "_kg_hide-output": true,
        "_uuid": "8f2839f25d086af736a60e9eeb907d3b93b6e0e5",
        "execution": {
          "iopub.execute_input": "2021-11-29T18:02:19.912960Z",
          "iopub.status.busy": "2021-11-29T18:02:19.912589Z",
          "iopub.status.idle": "2021-11-29T18:02:19.922064Z",
          "shell.execute_reply": "2021-11-29T18:02:19.921155Z",
          "shell.execute_reply.started": "2021-11-29T18:02:19.912911Z"
        },
        "id": "StdwEavb5aJ8"
      },
      "source": [
        "import numpy as np\n",
        "import pandas as pd\n",
        "import os"
      ],
      "execution_count": 3,
      "outputs": []
    },
    {
      "cell_type": "code",
      "metadata": {
        "colab": {
          "base_uri": "https://localhost:8080/"
        },
        "id": "uQH83i_i5lvh",
        "outputId": "3f01c0fb-ceab-47d8-b46d-ccec16e98e31"
      },
      "source": [
        "from google.colab import drive\n",
        "drive.mount('/content/drive')"
      ],
      "execution_count": 1,
      "outputs": [
        {
          "output_type": "stream",
          "name": "stdout",
          "text": [
            "Mounted at /content/drive\n"
          ]
        }
      ]
    },
    {
      "cell_type": "code",
      "metadata": {
        "_cell_guid": "79c7e3d0-c299-4dcb-8224-4455121ee9b0",
        "_uuid": "d629ff2d2480ee46fbb7e2d37f6b5fab8052498a",
        "execution": {
          "iopub.execute_input": "2021-11-29T18:02:22.749117Z",
          "iopub.status.busy": "2021-11-29T18:02:22.748448Z",
          "iopub.status.idle": "2021-11-29T18:02:33.285837Z",
          "shell.execute_reply": "2021-11-29T18:02:33.284860Z",
          "shell.execute_reply.started": "2021-11-29T18:02:22.749056Z"
        },
        "id": "ZBzIRzPL5aJ_"
      },
      "source": [
        "testing_letter = pd.read_csv('/content/drive/MyDrive/emnist-letters-test.csv')\n",
        "training_letter = pd.read_csv('/content/drive/MyDrive/emnist-letters-train.csv')"
      ],
      "execution_count": 4,
      "outputs": []
    },
    {
      "cell_type": "code",
      "metadata": {
        "execution": {
          "iopub.execute_input": "2021-11-29T18:03:31.367145Z",
          "iopub.status.busy": "2021-11-29T18:03:31.366758Z",
          "iopub.status.idle": "2021-11-29T18:03:31.372313Z",
          "shell.execute_reply": "2021-11-29T18:03:31.371483Z",
          "shell.execute_reply.started": "2021-11-29T18:03:31.367105Z"
        },
        "colab": {
          "base_uri": "https://localhost:8080/"
        },
        "id": "WXQ-yQcP5aKA",
        "outputId": "133418a8-37c3-4982-bc54-463ecfff5ebd"
      },
      "source": [
        "print(training_letter.shape)\n",
        "print(testing_letter.shape)"
      ],
      "execution_count": 5,
      "outputs": [
        {
          "output_type": "stream",
          "name": "stdout",
          "text": [
            "(88799, 785)\n",
            "(14799, 785)\n"
          ]
        }
      ]
    },
    {
      "cell_type": "code",
      "metadata": {
        "execution": {
          "iopub.execute_input": "2021-11-29T18:03:32.353073Z",
          "iopub.status.busy": "2021-11-29T18:03:32.352658Z",
          "iopub.status.idle": "2021-11-29T18:03:32.641619Z",
          "shell.execute_reply": "2021-11-29T18:03:32.640512Z",
          "shell.execute_reply.started": "2021-11-29T18:03:32.353008Z"
        },
        "colab": {
          "base_uri": "https://localhost:8080/"
        },
        "id": "BYfbYAmG5aKB",
        "outputId": "e17cf93e-99d3-4a40-c6bf-151344cb153b"
      },
      "source": [
        "y1 = np.array(training_letter.iloc[:,0].values)\n",
        "x1 = np.array(training_letter.iloc[:,1:].values)\n",
        "\n",
        "y2 = np.array(testing_letter.iloc[:,0].values)\n",
        "x2 = np.array(testing_letter.iloc[:,1:].values)\n",
        "print(y1.shape)\n",
        "print(x1.shape)"
      ],
      "execution_count": 6,
      "outputs": [
        {
          "output_type": "stream",
          "name": "stdout",
          "text": [
            "(88799,)\n",
            "(88799, 784)\n"
          ]
        }
      ]
    },
    {
      "cell_type": "code",
      "metadata": {
        "execution": {
          "iopub.execute_input": "2021-11-29T18:03:34.390218Z",
          "iopub.status.busy": "2021-11-29T18:03:34.389316Z",
          "iopub.status.idle": "2021-11-29T18:03:35.988585Z",
          "shell.execute_reply": "2021-11-29T18:03:35.987806Z",
          "shell.execute_reply.started": "2021-11-29T18:03:34.390132Z"
        },
        "colab": {
          "base_uri": "https://localhost:8080/",
          "height": 453
        },
        "id": "iveNU4Zj5aKB",
        "outputId": "51478623-eb1f-43c5-d9be-bb19a9cc4767"
      },
      "source": [
        "import matplotlib.pyplot as plt \n",
        "fig,axes = plt.subplots(3,5,figsize=(10,8))\n",
        "for i,ax in enumerate(axes.flat):\n",
        "    ax.imshow(x1[i].reshape([28,28]))"
      ],
      "execution_count": 7,
      "outputs": [
        {
          "output_type": "display_data",
          "data": {
            "image/png": "[encoded data removed]",
            "text/plain": [
              "<Figure size 720x576 with 15 Axes>"
            ]
          },
          "metadata": {
            "needs_background": "light"
          }
        }
      ]
    },
    {
      "cell_type": "code",
      "metadata": {
        "execution": {
          "iopub.execute_input": "2021-11-29T18:03:35.990248Z",
          "iopub.status.busy": "2021-11-29T18:03:35.989850Z",
          "iopub.status.idle": "2021-11-29T18:03:40.775436Z",
          "shell.execute_reply": "2021-11-29T18:03:40.774574Z",
          "shell.execute_reply.started": "2021-11-29T18:03:35.990209Z"
        },
        "id": "WwjY3-nK5aKC"
      },
      "source": [
        "import tensorflow as tf"
      ],
      "execution_count": 8,
      "outputs": []
    },
    {
      "cell_type": "code",
      "metadata": {
        "execution": {
          "iopub.execute_input": "2021-11-29T18:03:40.777442Z",
          "iopub.status.busy": "2021-11-29T18:03:40.777013Z",
          "iopub.status.idle": "2021-11-29T18:03:41.108742Z",
          "shell.execute_reply": "2021-11-29T18:03:41.107604Z",
          "shell.execute_reply.started": "2021-11-29T18:03:40.777400Z"
        },
        "id": "w_5TmBuM5aKC"
      },
      "source": [
        "train_images = x1 / 255.0\n",
        "test_images = x2 / 255.0\n",
        "\n",
        "train_images_number = train_images.shape[0]\n",
        "train_images_height = 28\n",
        "train_images_width = 28\n",
        "train_images_size = train_images_height*train_images_width\n",
        "\n",
        "train_images = train_images.reshape(train_images_number, train_images_height, train_images_width, 1)\n",
        "\n",
        "test_images_number = test_images.shape[0]\n",
        "test_images_height = 28\n",
        "test_images_width = 28\n",
        "test_images_size = test_images_height*test_images_width\n",
        "\n",
        "test_images = test_images.reshape(test_images_number, test_images_height, test_images_width, 1)"
      ],
      "execution_count": 9,
      "outputs": []
    },
    {
      "cell_type": "code",
      "metadata": {
        "execution": {
          "iopub.execute_input": "2021-11-29T18:03:41.111315Z",
          "iopub.status.busy": "2021-11-29T18:03:41.110818Z",
          "iopub.status.idle": "2021-11-29T18:03:41.121756Z",
          "shell.execute_reply": "2021-11-29T18:03:41.120884Z",
          "shell.execute_reply.started": "2021-11-29T18:03:41.111238Z"
        },
        "id": "oi61ytmv5aKD"
      },
      "source": [
        "number_of_classes = 37\n",
        "\n",
        "y1 = tf.keras.utils.to_categorical(y1, number_of_classes)\n",
        "y2 = tf.keras.utils.to_categorical(y2, number_of_classes)"
      ],
      "execution_count": 10,
      "outputs": []
    },
    {
      "cell_type": "code",
      "metadata": {
        "execution": {
          "iopub.execute_input": "2021-11-29T18:03:41.123712Z",
          "iopub.status.busy": "2021-11-29T18:03:41.123252Z",
          "iopub.status.idle": "2021-11-29T18:03:41.140861Z",
          "shell.execute_reply": "2021-11-29T18:03:41.139616Z",
          "shell.execute_reply.started": "2021-11-29T18:03:41.123643Z"
        },
        "id": "mrVpXGgP5aKE"
      },
      "source": [
        "from tensorflow.keras.callbacks import EarlyStopping, ReduceLROnPlateau,ModelCheckpoint"
      ],
      "execution_count": 11,
      "outputs": []
    },
    {
      "cell_type": "code",
      "metadata": {
        "execution": {
          "iopub.execute_input": "2021-11-29T18:03:41.142794Z",
          "iopub.status.busy": "2021-11-29T18:03:41.142292Z",
          "iopub.status.idle": "2021-11-29T18:03:41.919477Z",
          "shell.execute_reply": "2021-11-29T18:03:41.918602Z",
          "shell.execute_reply.started": "2021-11-29T18:03:41.142621Z"
        },
        "id": "__XwcInt5aKE"
      },
      "source": [
        "from sklearn.model_selection import train_test_split"
      ],
      "execution_count": 12,
      "outputs": []
    },
    {
      "cell_type": "code",
      "metadata": {
        "execution": {
          "iopub.execute_input": "2021-11-29T18:03:46.613259Z",
          "iopub.status.busy": "2021-11-29T18:03:46.612856Z",
          "iopub.status.idle": "2021-11-29T18:03:47.534767Z",
          "shell.execute_reply": "2021-11-29T18:03:47.533600Z",
          "shell.execute_reply.started": "2021-11-29T18:03:46.613210Z"
        },
        "id": "AcIZ50DT5aKF"
      },
      "source": [
        "train_x,test_x,train_y,test_y = train_test_split(train_images,y1,test_size=0.2,random_state = 42)"
      ],
      "execution_count": 13,
      "outputs": []
    },
    {
      "cell_type": "code",
      "metadata": {
        "execution": {
          "iopub.execute_input": "2021-11-29T18:03:47.537547Z",
          "iopub.status.busy": "2021-11-29T18:03:47.537061Z",
          "iopub.status.idle": "2021-11-29T18:03:47.684993Z",
          "shell.execute_reply": "2021-11-29T18:03:47.683814Z",
          "shell.execute_reply.started": "2021-11-29T18:03:47.537470Z"
        },
        "id": "iQmbXmyR5aKF"
      },
      "source": [
        "model = tf.keras.Sequential([ \n",
        "    tf.keras.layers.Conv2D(32,3,input_shape=(28,28,1)),\n",
        "    tf.keras.layers.MaxPooling2D(2,2),\n",
        "    tf.keras.layers.Flatten(input_shape=(28,28,1)),\n",
        "    tf.keras.layers.Dense(512,activation='relu'),\n",
        "    tf.keras.layers.Dense(128,activation='relu'),\n",
        "    tf.keras.layers.Dense(number_of_classes,activation='softmax')\n",
        "])"
      ],
      "execution_count": 14,
      "outputs": []
    },
    {
      "cell_type": "code",
      "metadata": {
        "execution": {
          "iopub.execute_input": "2021-11-29T18:03:50.609442Z",
          "iopub.status.busy": "2021-11-29T18:03:50.608817Z",
          "iopub.status.idle": "2021-11-29T18:03:50.647771Z",
          "shell.execute_reply": "2021-11-29T18:03:50.646876Z",
          "shell.execute_reply.started": "2021-11-29T18:03:50.609150Z"
        },
        "id": "U_iE4yq55aKF"
      },
      "source": [
        "model.compile(optimizer='rmsprop',loss='categorical_crossentropy',metrics=['accuracy'])"
      ],
      "execution_count": 15,
      "outputs": []
    },
    {
      "cell_type": "code",
      "metadata": {
        "execution": {
          "iopub.execute_input": "2021-11-29T18:04:02.222834Z",
          "iopub.status.busy": "2021-11-29T18:04:02.222443Z",
          "iopub.status.idle": "2021-11-29T18:04:02.229803Z",
          "shell.execute_reply": "2021-11-29T18:04:02.228543Z",
          "shell.execute_reply.started": "2021-11-29T18:04:02.222784Z"
        },
        "id": "bBtApU4t5aKG"
      },
      "source": [
        "MCP = ModelCheckpoint('Best_points.h5',verbose=1,save_best_only=True,monitor='val_accuracy',mode='max')\n",
        "ES = EarlyStopping(monitor='val_accuracy',min_delta=0,verbose=0,restore_best_weights = True,patience=3,mode='max')\n",
        "RLP = ReduceLROnPlateau(monitor='val_loss',patience=3,factor=0.2,min_lr=0.0001)"
      ],
      "execution_count": 16,
      "outputs": []
    },
    {
      "cell_type": "code",
      "metadata": {
        "execution": {
          "iopub.execute_input": "2021-11-29T18:04:02.477949Z",
          "iopub.status.busy": "2021-11-29T18:04:02.477392Z"
        },
        "colab": {
          "base_uri": "https://localhost:8080/"
        },
        "id": "cMsR4D0l5aKG",
        "outputId": "426ee155-639c-4dfc-e149-515408787edf"
      },
      "source": [
        "history = model.fit(train_x,train_y,epochs=10,validation_data=(test_x,test_y),callbacks=[MCP,ES,RLP])"
      ],
      "execution_count": 17,
      "outputs": [
        {
          "output_type": "stream",
          "name": "stdout",
          "text": [
            "Epoch 1/10\n",
            "2218/2220 [============================>.] - ETA: 0s - loss: 0.5546 - accuracy: 0.8268\n",
            "Epoch 00001: val_accuracy improved from -inf to 0.89048, saving model to Best_points.h5\n",
            "2220/2220 [==============================] - 34s 10ms/step - loss: 0.5544 - accuracy: 0.8269 - val_loss: 0.3341 - val_accuracy: 0.8905 - lr: 0.0010\n",
            "Epoch 2/10\n",
            "2218/2220 [============================>.] - ETA: 0s - loss: 0.2822 - accuracy: 0.9084\n",
            "Epoch 00002: val_accuracy did not improve from 0.89048\n",
            "2220/2220 [==============================] - 22s 10ms/step - loss: 0.2823 - accuracy: 0.9084 - val_loss: 0.3510 - val_accuracy: 0.8901 - lr: 0.0010\n",
            "Epoch 3/10\n",
            "2219/2220 [============================>.] - ETA: 0s - loss: 0.2237 - accuracy: 0.9252\n",
            "Epoch 00003: val_accuracy improved from 0.89048 to 0.90360, saving model to Best_points.h5\n",
            "2220/2220 [==============================] - 22s 10ms/step - loss: 0.2236 - accuracy: 0.9253 - val_loss: 0.3432 - val_accuracy: 0.9036 - lr: 0.0010\n",
            "Epoch 4/10\n",
            "2215/2220 [============================>.] - ETA: 0s - loss: 0.2001 - accuracy: 0.9339\n",
            "Epoch 00004: val_accuracy improved from 0.90360 to 0.90709, saving model to Best_points.h5\n",
            "2220/2220 [==============================] - 22s 10ms/step - loss: 0.2001 - accuracy: 0.9339 - val_loss: 0.3540 - val_accuracy: 0.9071 - lr: 0.0010\n",
            "Epoch 5/10\n",
            "2217/2220 [============================>.] - ETA: 0s - loss: 0.0981 - accuracy: 0.9645\n",
            "Epoch 00005: val_accuracy improved from 0.90709 to 0.91757, saving model to Best_points.h5\n",
            "2220/2220 [==============================] - 22s 10ms/step - loss: 0.0981 - accuracy: 0.9645 - val_loss: 0.3047 - val_accuracy: 0.9176 - lr: 2.0000e-04\n",
            "Epoch 6/10\n",
            "2219/2220 [============================>.] - ETA: 0s - loss: 0.0807 - accuracy: 0.9697\n",
            "Epoch 00006: val_accuracy did not improve from 0.91757\n",
            "2220/2220 [==============================] - 22s 10ms/step - loss: 0.0807 - accuracy: 0.9697 - val_loss: 0.3243 - val_accuracy: 0.9163 - lr: 2.0000e-04\n",
            "Epoch 7/10\n",
            "2219/2220 [============================>.] - ETA: 0s - loss: 0.0730 - accuracy: 0.9726\n",
            "Epoch 00007: val_accuracy did not improve from 0.91757\n",
            "2220/2220 [==============================] - 22s 10ms/step - loss: 0.0730 - accuracy: 0.9726 - val_loss: 0.3535 - val_accuracy: 0.9163 - lr: 2.0000e-04\n",
            "Epoch 8/10\n",
            "2218/2220 [============================>.] - ETA: 0s - loss: 0.0689 - accuracy: 0.9736\n",
            "Epoch 00008: val_accuracy did not improve from 0.91757\n",
            "2220/2220 [==============================] - 22s 10ms/step - loss: 0.0689 - accuracy: 0.9736 - val_loss: 0.4110 - val_accuracy: 0.9138 - lr: 2.0000e-04\n"
          ]
        }
      ]
    },
    {
      "cell_type": "code",
      "metadata": {
        "id": "H0AGOprD5aKG"
      },
      "source": [
        "import seaborn as sns"
      ],
      "execution_count": 18,
      "outputs": []
    },
    {
      "cell_type": "code",
      "metadata": {
        "colab": {
          "base_uri": "https://localhost:8080/",
          "height": 300
        },
        "id": "gOtLzVfm5aKG",
        "outputId": "50bda051-35a9-4164-ef56-6fe60f4186f7"
      },
      "source": [
        "q = len(history.history['accuracy'])\n",
        "\n",
        "plt.figsize=(10,10)\n",
        "sns.lineplot(x = range(1,1+q),y = history.history['accuracy'], label='Accuracy')\n",
        "sns.lineplot(x = range(1,1+q),y = history.history['val_accuracy'], label='Val_Accuracy')\n",
        "plt.xlabel('epochs')\n",
        "plt.ylabel('Accuracy')"
      ],
      "execution_count": 20,
      "outputs": [
        {
          "output_type": "execute_result",
          "data": {
            "text/plain": [
              "Text(0, 0.5, 'Accuracy')"
            ]
          },
          "metadata": {},
          "execution_count": 20
        },
        {
          "output_type": "display_data",
          "data": {
            "image/png": "[encoded data removed]",
            "text/plain": [
              "<Figure size 432x288 with 1 Axes>"
            ]
          },
          "metadata": {
            "needs_background": "light"
          }
        }
      ]
    },
    {
      "cell_type": "code",
      "metadata": {
        "id": "GuSqTrWy6owg"
      },
      "source": [
        ""
      ],
      "execution_count": null,
      "outputs": []
    }
  ]
}